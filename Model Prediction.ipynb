{
 "cells": [
  {
   "cell_type": "code",
   "execution_count": null,
   "metadata": {},
   "outputs": [],
   "source": [
    "from pyhive.hive import connect\n",
    "import os\n",
    "import pandas as pd\n",
    "import numpy as np\n",
    "import joblib\n",
    "from sklearn import metrics\n",
    "from sklearn.decomposition import PCA\n",
    "from sklearn.cluster import KMeans, MiniBatchKMeans\n",
    "from sklearn import preprocessing\n",
    "from sklearn.ensemble import IsolationForest\n",
    "import random"
   ]
  },
  {
   "cell_type": "code",
   "execution_count": null,
   "metadata": {},
   "outputs": [],
   "source": [
    "# 将数据库中的表格导入开发环境中\n",
    "keytab_file='***@cnpc.com.cn.keytab'\n",
    "user='gaohaojie'\n",
    "host='**.**.***.***'\n",
    "port=10000\n",
    "active_str='kinit -kt {0} {1}'.format(keytab_file,user)\n",
    "os.system(active_str)\n",
    "con=connect(host=host,port=port,database='***',auth='KERBEROS',kerberos_service_name=\"hive\")\n",
    "cursor=con.cursor()\n",
    "dim_sql = \"select * from ***\"\n",
    "cursor.execute(dim_sql)\n",
    "curinfo = cursor.fetchall()"
   ]
  },
  {
   "cell_type": "code",
   "execution_count": null,
   "metadata": {},
   "outputs": [],
   "source": [
    "# 将导入的数组转换为数据表并进行表头重命名\n",
    "df = pd.DataFrame(curinfo)\n",
    "df.rename(columns = \n",
    "    {\n",
    "    0:'帐号'\n",
    "    1:'卡号',     \n",
    "    2:'平均油量升数', \n",
    "    3:'平均实际金额', \n",
    "    4:'平均折扣金额', \n",
    "    5:'平均余额', \n",
    "    6:'类型名称', \n",
    "    7:'交易类型描述', \n",
    "    8:'商品类型', \n",
    "    9:'商品种类名称', \n",
    "    10:'单位名称', \n",
    "    11:'首次交易日期', \n",
    "    12:'最近交易日期',\n",
    "    13:'是否睡眠卡',\n",
    "    14:'IC卡大额非油消费次数',\n",
    "    15:'车队卡非油累计消费金额是否过高', \n",
    "    16:'车队卡非油累计消费次数是否过多', \n",
    "    17:'车队卡累计消费次数', \n",
    "    18:'车队卡累计消费金额', \n",
    "    19:'单日高频充值次数', \n",
    "    20:'车队卡汽油消费次数占比', \n",
    "    21:'车队卡柴油消费次数占比',\n",
    "    22:'车队卡天然气消费次数占比', \n",
    "    23:'单日高频消费次数', \n",
    "    24:'车队卡汽油累计消费次数', \n",
    "    25:'车队卡汽油累计消费金额', \n",
    "    26:'单日夜间高频消费次数', \n",
    "    27:'加油卡非油累计消费金额', \n",
    "    28:'加油卡非油消费占总消费占比',\n",
    "    29:'车队卡柴油是否高额消费'\n",
    "    }, \n",
    "        inplace=True)"
   ]
  },
  {
   "attachments": {},
   "cell_type": "markdown",
   "metadata": {},
   "source": [
    "### 特征缩放"
   ]
  },
  {
   "cell_type": "code",
   "execution_count": null,
   "metadata": {},
   "outputs": [],
   "source": [
    "# 将取值范围为0到1的字段*100\n",
    "df_copy1 = df\n",
    "df_copy1 = df_copy1.drop(['帐号', '首次交易日期', '最近交易日期'], axis=1)\n",
    "for i in ['类型名称', '交易类型描述', '商品类型', '商品种类名称', '单位名称', '车队卡非油累计消费金额是否过高', \n",
    "          '车队卡非油累计消费次数是否过多','加油卡非油消费占总消费占比', '车队卡柴油是否高额消费', '是否睡眠卡']:\n",
    "    df_copy1[i] = df_copy1[i] * 100"
   ]
  },
  {
   "cell_type": "code",
   "execution_count": null,
   "metadata": {},
   "outputs": [],
   "source": [
    "# 将量级较大的字段归一化至范围为0到100\n",
    "df_copy2 = df\n",
    "min_max_scaler = preprocessing.MinMaxScaler(feature_range=(0,100))\n",
    "x_minmax = min_max_scaler.fit_transform(df_copy2[['平均油量升数', '平均实际金额', '平均折扣金额', '平均余额', '车队卡累计消费金额',\n",
    "                                                  '车队卡汽油累计消费金额','加油卡非油累计消费金额','IC卡大额非油消费次数',\n",
    "                                                  '车队卡累计消费次数', '单日高频充值次数','单日高频消费次数', \n",
    "                                                  '车队卡汽油累计消费次数','单日夜间高频消费次数']])\n",
    "df_minmax = pd.DataFrame(x_minmax)\n",
    "df_minmax = df_minmax.rename(columns={0:'平均油量升数', 1:'平均实际金额', 2:'平均折扣金额', 3:'平均余额', 4:'车队卡累计消费金额', \n",
    "                                      5:'车队卡汽油累计消费金额', 6:'加油卡非油累计消费金额',7:'IC卡大额非油消费次数', \n",
    "                                      8:'车队卡累计消费次数', 9:'单日高频充值次数', 10:'单日高频消费次数', \n",
    "                                      11:'车队卡汽油累计消费次数',12:'单日夜间高频消费次数'})\n",
    "df_minmax_concat1 = pd.concat([df_copy2.reset_index()['卡号'], df_minmax], axis = 1)\n",
    "df_minmax_concat2 = pd.merge(df_minmax_concat1, df_copy1.drop(['平均油量升数', '平均实际金额', '平均折扣金额', '平均余额', '车队卡累计消费金额',\n",
    "                                                  '车队卡汽油累计消费金额','加油卡非油累计消费金额','IC卡大额非油消费次数',\n",
    "                                                  '车队卡累计消费次数', '单日高频充值次数','单日高频消费次数', \n",
    "                                                  '车队卡汽油累计消费次数','单日夜间高频消费次数'], axis=1), on='卡号')\n",
    "df_minmax_concat2 = df_minmax_concat2.set_index('卡号')"
   ]
  },
  {
   "attachments": {},
   "cell_type": "markdown",
   "metadata": {},
   "source": [
    "### 主成分分析技术（PCA）"
   ]
  },
  {
   "cell_type": "code",
   "execution_count": null,
   "metadata": {},
   "outputs": [],
   "source": [
    "# 创建一个PCA模型并适配数据表\n",
    "pca = PCA(n_components = 5)\n",
    "X2D = pca.fit_transform(df_minmax_concat2)"
   ]
  },
  {
   "attachments": {},
   "cell_type": "markdown",
   "metadata": {},
   "source": [
    "### 孤立森林算法"
   ]
  },
  {
   "cell_type": "code",
   "execution_count": null,
   "metadata": {},
   "outputs": [],
   "source": [
    "# 读取训练好的模型\n",
    "Iso_model = joblib.load('Iso_model.model')\n",
    "\n",
    "# 预测\n",
    "all_pred = Iso_model.predict(X2D[[0,1,2,3,4]])\n",
    "\n",
    "X2D['anomaly'] = all_pred\n",
    "# X2D.to_csv('outliers.csv', columns=[\"pred\",], header=False)\n",
    "\n",
    "outliers = X2D.loc[X2D['anomaly'] == -1]"
   ]
  },
  {
   "cell_type": "code",
   "execution_count": null,
   "metadata": {},
   "outputs": [],
   "source": [
    "# 异常数据点的原数据表映射\n",
    "df_outliers = df.iloc[list(outliers.index)]"
   ]
  },
  {
   "cell_type": "code",
   "execution_count": null,
   "metadata": {},
   "outputs": [],
   "source": [
    "# 为卡号添加\\t后缀，使得cvs可显示卡号全部位数\n",
    "df_outliers['卡号'] = df_outliers['卡号'] + '\\t'\n",
    "# 将数据表导出\n",
    "df_outliers.to_csv('车队卡异常加油卡.csv',encoding='utf-8-sig',index=False)"
   ]
  }
 ],
 "metadata": {
  "kernelspec": {
   "display_name": "Python 3",
   "language": "python",
   "name": "python3"
  },
  "language_info": {
   "codemirror_mode": {
    "name": "ipython",
    "version": 3
   },
   "file_extension": ".py",
   "mimetype": "text/x-python",
   "name": "python",
   "nbconvert_exporter": "python",
   "pygments_lexer": "ipython3",
   "version": "3.8.5"
  }
 },
 "nbformat": 4,
 "nbformat_minor": 4
}

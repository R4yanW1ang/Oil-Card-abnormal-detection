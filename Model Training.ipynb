{
 "cells": [
  {
   "cell_type": "code",
   "execution_count": 1,
   "metadata": {},
   "outputs": [
    {
     "ename": "ModuleNotFoundError",
     "evalue": "No module named 'pyhive'",
     "output_type": "error",
     "traceback": [
      "\u001b[1;31m---------------------------------------------------------------------------\u001b[0m",
      "\u001b[1;31mModuleNotFoundError\u001b[0m                       Traceback (most recent call last)",
      "\u001b[1;32m<ipython-input-1-fef7a9832295>\u001b[0m in \u001b[0;36m<module>\u001b[1;34m\u001b[0m\n\u001b[1;32m----> 1\u001b[1;33m \u001b[1;32mfrom\u001b[0m \u001b[0mpyhive\u001b[0m\u001b[1;33m.\u001b[0m\u001b[0mhive\u001b[0m \u001b[1;32mimport\u001b[0m \u001b[0mconnect\u001b[0m\u001b[1;33m\u001b[0m\u001b[1;33m\u001b[0m\u001b[0m\n\u001b[0m\u001b[0;32m      2\u001b[0m \u001b[1;32mimport\u001b[0m \u001b[0mos\u001b[0m\u001b[1;33m\u001b[0m\u001b[1;33m\u001b[0m\u001b[0m\n\u001b[0;32m      3\u001b[0m \u001b[1;32mimport\u001b[0m \u001b[0mpandas\u001b[0m \u001b[1;32mas\u001b[0m \u001b[0mpd\u001b[0m\u001b[1;33m\u001b[0m\u001b[1;33m\u001b[0m\u001b[0m\n\u001b[0;32m      4\u001b[0m \u001b[1;32mimport\u001b[0m \u001b[0mnumpy\u001b[0m \u001b[1;32mas\u001b[0m \u001b[0mnp\u001b[0m\u001b[1;33m\u001b[0m\u001b[1;33m\u001b[0m\u001b[0m\n\u001b[0;32m      5\u001b[0m \u001b[1;32mimport\u001b[0m \u001b[0mmatplotlib\u001b[0m\u001b[1;33m.\u001b[0m\u001b[0mpyplot\u001b[0m \u001b[1;32mas\u001b[0m \u001b[0mplt\u001b[0m\u001b[1;33m\u001b[0m\u001b[1;33m\u001b[0m\u001b[0m\n",
      "\u001b[1;31mModuleNotFoundError\u001b[0m: No module named 'pyhive'"
     ]
    }
   ],
   "source": [
    "from pyhive.hive import connect\n",
    "import os\n",
    "import pandas as pd\n",
    "import numpy as np\n",
    "import matplotlib.pyplot as plt\n",
    "import random\n",
    "import joblib\n",
    "from sklearn import metrics\n",
    "from sklearn.decomposition import PCA\n",
    "from sklearn.preprocessing import StandardScaler\n",
    "from sklearn.cluster import KMeans, MiniBatchKMeans\n",
    "from sklearn.model_selection import train_test_split\n",
    "from sklearn import preprocessing\n",
    "from sklearn.ensemble import IsolationForest\n",
    "%matplotlib inline"
   ]
  },
  {
   "cell_type": "code",
   "execution_count": 2,
   "metadata": {},
   "outputs": [],
   "source": [
    "# 将数据库中的表格导入开发环境中\n",
    "keytab_file='gaohaojie@cnpc.com.cn.keytab'\n",
    "user='gaohaojie'\n",
    "host='11.11.206.232'\n",
    "port=10000\n",
    "active_str='kinit -kt {0} {1}'.format(keytab_file,user)\n",
    "os.system(active_str)\n",
    "con=connect(host=host,port=port,database='dw04_sjfx',auth='KERBEROS',kerberos_service_name=\"hive\")\n",
    "cursor=con.cursor()\n",
    "dim_sql = \"select * from app_gsms_kjyxxb_2020_carcard\"\n",
    "cursor.execute(dim_sql)\n",
    "curinfo = cursor.fetchall()"
   ]
  },
  {
   "cell_type": "code",
   "execution_count": 3,
   "metadata": {},
   "outputs": [],
   "source": [
    "# 设置列的最大打印量为无上限\n",
    "pd.set_option('display.max_columns', None)"
   ]
  },
  {
   "cell_type": "code",
   "execution_count": 4,
   "metadata": {},
   "outputs": [],
   "source": [
    "# 将导入的数组转换为数据表并进行表头重命名\n",
    "df = pd.DataFrame(curinfo)\n",
    "df.rename(columns = \n",
    "    {\n",
    "    0:'帐号'\n",
    "    1:'卡号',     \n",
    "    2:'平均油量升数', \n",
    "    3:'平均实际金额', \n",
    "    4:'平均折扣金额', \n",
    "    5:'平均余额', \n",
    "    6:'类型名称', \n",
    "    7:'交易类型描述', \n",
    "    8:'商品类型', \n",
    "    9:'商品种类名称', \n",
    "    10:'单位名称', \n",
    "    11:'首次交易日期', \n",
    "    12:'最近交易日期',\n",
    "    13:'是否睡眠卡',\n",
    "    14:'IC卡大额非油消费次数',\n",
    "    15:'车队卡非油累计消费金额是否过高', \n",
    "    16:'车队卡非油累计消费次数是否过多', \n",
    "    17:'车队卡累计消费次数', \n",
    "    18:'车队卡累计消费金额', \n",
    "    19:'单日高频充值次数', \n",
    "    20:'车队卡汽油消费次数占比', \n",
    "    21:'车队卡柴油消费次数占比',\n",
    "    22:'车队卡天然气消费次数占比', \n",
    "    23:'单日高频消费次数', \n",
    "    24:'车队卡汽油累计消费次数', \n",
    "    25:'车队卡汽油累计消费金额', \n",
    "    26:'单日夜间高频消费次数', \n",
    "    27:'加油卡非油累计消费金额', \n",
    "    28:'加油卡非油消费占总消费占比',\n",
    "    29:'车队卡柴油是否高额消费'\n",
    "    }, \n",
    "        inplace=True)"
   ]
  },
  {
   "attachments": {},
   "cell_type": "markdown",
   "metadata": {},
   "source": [
    "### 频率工程"
   ]
  },
  {
   "cell_type": "code",
   "execution_count": null,
   "metadata": {},
   "outputs": [],
   "source": [
    "# 去除不必要的字段\n",
    "df_copy = df\n",
    "df_copy = df_copy1.drop(['帐号', '首次交易日期', '最近交易日期'], axis=1)"
   ]
  },
  {
   "cell_type": "code",
   "execution_count": null,
   "metadata": {},
   "outputs": [],
   "source": [
    "for i in ['类型名称', '交易类型描述', '商品类型', '商品种类名称', '单位名称']:\n",
    "    column_dict = dict(df_copy[i].value_counts())\n",
    "    df[i] = df.apply(lambda x: column_dict[x[i]]/df.shape[0], axis = 1)"
   ]
  },
  {
   "attachments": {},
   "cell_type": "markdown",
   "metadata": {},
   "source": [
    "### 特征缩放"
   ]
  },
  {
   "cell_type": "code",
   "execution_count": 9,
   "metadata": {},
   "outputs": [],
   "source": [
    "# 将取值范围为0到1的字段*100\n",
    "for i in ['类型名称', '交易类型描述', '商品类型', '商品种类名称', '单位名称', '车队卡非油累计消费金额是否过高', \n",
    "          '车队卡非油累计消费次数是否过多','加油卡非油消费占总消费占比', '车队卡柴油是否高额消费', '是否睡眠卡']:\n",
    "    df_copy[i] = df_copy[i] * 100"
   ]
  },
  {
   "cell_type": "code",
   "execution_count": 10,
   "metadata": {},
   "outputs": [
    {
     "data": {
      "text/html": [
       "<div>\n",
       "<style scoped>\n",
       "    .dataframe tbody tr th:only-of-type {\n",
       "        vertical-align: middle;\n",
       "    }\n",
       "\n",
       "    .dataframe tbody tr th {\n",
       "        vertical-align: top;\n",
       "    }\n",
       "\n",
       "    .dataframe thead th {\n",
       "        text-align: right;\n",
       "    }\n",
       "</style>\n",
       "<table border=\"1\" class=\"dataframe\">\n",
       "  <thead>\n",
       "    <tr style=\"text-align: right;\">\n",
       "      <th></th>\n",
       "      <th>油量升数</th>\n",
       "      <th>实际金额</th>\n",
       "      <th>折扣金额</th>\n",
       "      <th>余额</th>\n",
       "      <th>车队卡累计消费金额</th>\n",
       "      <th>汽油累计消费金额</th>\n",
       "      <th>加油卡非油累计消费金额</th>\n",
       "      <th>IC卡大额非油消费次数</th>\n",
       "      <th>车队卡累计消费笔数</th>\n",
       "      <th>单日高频充值次数</th>\n",
       "      <th>单日高频消费次数</th>\n",
       "      <th>汽油累计消费次数</th>\n",
       "      <th>单日夜间高频消费次数</th>\n",
       "      <th>类型名称</th>\n",
       "      <th>交易类型描述</th>\n",
       "      <th>商品类型</th>\n",
       "      <th>商品种类名称</th>\n",
       "      <th>单位名称</th>\n",
       "      <th>非油累计消费金额是否过高</th>\n",
       "      <th>非油累计消费次数是否过多</th>\n",
       "      <th>汽油消费占比</th>\n",
       "      <th>柴油消费占比</th>\n",
       "      <th>天然气消费占比</th>\n",
       "      <th>加油卡非油消费占比</th>\n",
       "      <th>车队卡柴油是否高额消费</th>\n",
       "      <th>是否睡眠卡</th>\n",
       "    </tr>\n",
       "    <tr>\n",
       "      <th>卡号</th>\n",
       "      <th></th>\n",
       "      <th></th>\n",
       "      <th></th>\n",
       "      <th></th>\n",
       "      <th></th>\n",
       "      <th></th>\n",
       "      <th></th>\n",
       "      <th></th>\n",
       "      <th></th>\n",
       "      <th></th>\n",
       "      <th></th>\n",
       "      <th></th>\n",
       "      <th></th>\n",
       "      <th></th>\n",
       "      <th></th>\n",
       "      <th></th>\n",
       "      <th></th>\n",
       "      <th></th>\n",
       "      <th></th>\n",
       "      <th></th>\n",
       "      <th></th>\n",
       "      <th></th>\n",
       "      <th></th>\n",
       "      <th></th>\n",
       "      <th></th>\n",
       "      <th></th>\n",
       "    </tr>\n",
       "  </thead>\n",
       "  <tbody>\n",
       "    <tr>\n",
       "      <th>9100000001004465</th>\n",
       "      <td>0.310483</td>\n",
       "      <td>0.503650</td>\n",
       "      <td>0.0</td>\n",
       "      <td>0.039344</td>\n",
       "      <td>0.070847</td>\n",
       "      <td>0.112096</td>\n",
       "      <td>0.000000</td>\n",
       "      <td>0.0</td>\n",
       "      <td>0.068143</td>\n",
       "      <td>0.000000</td>\n",
       "      <td>0.000000</td>\n",
       "      <td>0.092836</td>\n",
       "      <td>0.0</td>\n",
       "      <td>24.158217</td>\n",
       "      <td>83.219223</td>\n",
       "      <td>38.213676</td>\n",
       "      <td>38.211320</td>\n",
       "      <td>1.514248</td>\n",
       "      <td>0</td>\n",
       "      <td>0</td>\n",
       "      <td>1.000000</td>\n",
       "      <td>0.000000</td>\n",
       "      <td>0.0</td>\n",
       "      <td>0.000000</td>\n",
       "      <td>0</td>\n",
       "      <td>0</td>\n",
       "    </tr>\n",
       "    <tr>\n",
       "      <th>9100000001041818</th>\n",
       "      <td>0.457178</td>\n",
       "      <td>0.753914</td>\n",
       "      <td>0.0</td>\n",
       "      <td>0.021135</td>\n",
       "      <td>0.086976</td>\n",
       "      <td>0.137615</td>\n",
       "      <td>0.000000</td>\n",
       "      <td>0.0</td>\n",
       "      <td>0.058106</td>\n",
       "      <td>0.000000</td>\n",
       "      <td>0.000000</td>\n",
       "      <td>0.079163</td>\n",
       "      <td>0.0</td>\n",
       "      <td>24.158217</td>\n",
       "      <td>83.219223</td>\n",
       "      <td>38.213676</td>\n",
       "      <td>38.211320</td>\n",
       "      <td>5.365035</td>\n",
       "      <td>0</td>\n",
       "      <td>0</td>\n",
       "      <td>1.000000</td>\n",
       "      <td>0.000000</td>\n",
       "      <td>0.0</td>\n",
       "      <td>0.000000</td>\n",
       "      <td>0</td>\n",
       "      <td>0</td>\n",
       "    </tr>\n",
       "    <tr>\n",
       "      <th>9100000001044671</th>\n",
       "      <td>0.342737</td>\n",
       "      <td>0.549980</td>\n",
       "      <td>0.0</td>\n",
       "      <td>0.000000</td>\n",
       "      <td>0.004690</td>\n",
       "      <td>0.007420</td>\n",
       "      <td>0.000000</td>\n",
       "      <td>0.0</td>\n",
       "      <td>0.004226</td>\n",
       "      <td>0.000000</td>\n",
       "      <td>0.000000</td>\n",
       "      <td>0.005757</td>\n",
       "      <td>0.0</td>\n",
       "      <td>24.158217</td>\n",
       "      <td>83.219223</td>\n",
       "      <td>38.213676</td>\n",
       "      <td>38.211320</td>\n",
       "      <td>5.365035</td>\n",
       "      <td>0</td>\n",
       "      <td>0</td>\n",
       "      <td>1.000000</td>\n",
       "      <td>0.000000</td>\n",
       "      <td>0.0</td>\n",
       "      <td>0.000000</td>\n",
       "      <td>0</td>\n",
       "      <td>0</td>\n",
       "    </tr>\n",
       "    <tr>\n",
       "      <th>9100000001049135</th>\n",
       "      <td>0.310358</td>\n",
       "      <td>0.499580</td>\n",
       "      <td>0.0</td>\n",
       "      <td>0.002985</td>\n",
       "      <td>0.008446</td>\n",
       "      <td>0.013364</td>\n",
       "      <td>0.000000</td>\n",
       "      <td>0.0</td>\n",
       "      <td>0.008452</td>\n",
       "      <td>0.280112</td>\n",
       "      <td>0.000000</td>\n",
       "      <td>0.011515</td>\n",
       "      <td>0.0</td>\n",
       "      <td>24.158217</td>\n",
       "      <td>83.219223</td>\n",
       "      <td>38.213676</td>\n",
       "      <td>38.211320</td>\n",
       "      <td>5.365035</td>\n",
       "      <td>0</td>\n",
       "      <td>0</td>\n",
       "      <td>1.000000</td>\n",
       "      <td>0.000000</td>\n",
       "      <td>0.0</td>\n",
       "      <td>0.000000</td>\n",
       "      <td>0</td>\n",
       "      <td>0</td>\n",
       "    </tr>\n",
       "    <tr>\n",
       "      <th>9100000001060538</th>\n",
       "      <td>0.447854</td>\n",
       "      <td>0.756876</td>\n",
       "      <td>0.0</td>\n",
       "      <td>0.049985</td>\n",
       "      <td>0.072481</td>\n",
       "      <td>0.020742</td>\n",
       "      <td>0.003469</td>\n",
       "      <td>0.0</td>\n",
       "      <td>0.055993</td>\n",
       "      <td>0.000000</td>\n",
       "      <td>2.185792</td>\n",
       "      <td>0.017272</td>\n",
       "      <td>0.0</td>\n",
       "      <td>24.158217</td>\n",
       "      <td>83.219223</td>\n",
       "      <td>12.889880</td>\n",
       "      <td>12.889117</td>\n",
       "      <td>1.066286</td>\n",
       "      <td>0</td>\n",
       "      <td>100</td>\n",
       "      <td>0.292683</td>\n",
       "      <td>0.707317</td>\n",
       "      <td>0.0</td>\n",
       "      <td>0.710100</td>\n",
       "      <td>0</td>\n",
       "      <td>0</td>\n",
       "    </tr>\n",
       "  </tbody>\n",
       "</table>\n",
       "</div>"
      ],
      "text/plain": [
       "                      油量升数      实际金额  折扣金额        余额  车队卡累计消费金额  汽油累计消费金额  \\\n",
       "卡号                                                                          \n",
       "9100000001004465  0.310483  0.503650   0.0  0.039344   0.070847  0.112096   \n",
       "9100000001041818  0.457178  0.753914   0.0  0.021135   0.086976  0.137615   \n",
       "9100000001044671  0.342737  0.549980   0.0  0.000000   0.004690  0.007420   \n",
       "9100000001049135  0.310358  0.499580   0.0  0.002985   0.008446  0.013364   \n",
       "9100000001060538  0.447854  0.756876   0.0  0.049985   0.072481  0.020742   \n",
       "\n",
       "                  加油卡非油累计消费金额  IC卡大额非油消费次数  车队卡累计消费笔数  单日高频充值次数  单日高频消费次数  \\\n",
       "卡号                                                                          \n",
       "9100000001004465     0.000000          0.0   0.068143  0.000000  0.000000   \n",
       "9100000001041818     0.000000          0.0   0.058106  0.000000  0.000000   \n",
       "9100000001044671     0.000000          0.0   0.004226  0.000000  0.000000   \n",
       "9100000001049135     0.000000          0.0   0.008452  0.280112  0.000000   \n",
       "9100000001060538     0.003469          0.0   0.055993  0.000000  2.185792   \n",
       "\n",
       "                  汽油累计消费次数  单日夜间高频消费次数       类型名称     交易类型描述       商品类型  \\\n",
       "卡号                                                                        \n",
       "9100000001004465  0.092836         0.0  24.158217  83.219223  38.213676   \n",
       "9100000001041818  0.079163         0.0  24.158217  83.219223  38.213676   \n",
       "9100000001044671  0.005757         0.0  24.158217  83.219223  38.213676   \n",
       "9100000001049135  0.011515         0.0  24.158217  83.219223  38.213676   \n",
       "9100000001060538  0.017272         0.0  24.158217  83.219223  12.889880   \n",
       "\n",
       "                     商品种类名称      单位名称  非油累计消费金额是否过高  非油累计消费次数是否过多    汽油消费占比  \\\n",
       "卡号                                                                            \n",
       "9100000001004465  38.211320  1.514248             0             0  1.000000   \n",
       "9100000001041818  38.211320  5.365035             0             0  1.000000   \n",
       "9100000001044671  38.211320  5.365035             0             0  1.000000   \n",
       "9100000001049135  38.211320  5.365035             0             0  1.000000   \n",
       "9100000001060538  12.889117  1.066286             0           100  0.292683   \n",
       "\n",
       "                    柴油消费占比  天然气消费占比 加油卡非油消费占比  车队卡柴油是否高额消费  是否睡眠卡  \n",
       "卡号                                                                 \n",
       "9100000001004465  0.000000      0.0  0.000000            0      0  \n",
       "9100000001041818  0.000000      0.0  0.000000            0      0  \n",
       "9100000001044671  0.000000      0.0  0.000000            0      0  \n",
       "9100000001049135  0.000000      0.0  0.000000            0      0  \n",
       "9100000001060538  0.707317      0.0  0.710100            0      0  "
      ]
     },
     "execution_count": 10,
     "metadata": {},
     "output_type": "execute_result"
    }
   ],
   "source": [
    "# 将量级较大的字段归一化至范围为0到100\n",
    "df_copy1 = df\n",
    "min_max_scaler = preprocessing.MinMaxScaler(feature_range=(0,100))\n",
    "x_minmax = min_max_scaler.fit_transform(df_copy1[['平均油量升数', '平均实际金额', '平均折扣金额', '平均余额', '车队卡累计消费金额',\n",
    "                                                  '车队卡汽油累计消费金额','加油卡非油累计消费金额','IC卡大额非油消费次数',\n",
    "                                                  '车队卡累计消费次数', '单日高频充值次数','单日高频消费次数', \n",
    "                                                  '车队卡汽油累计消费次数','单日夜间高频消费次数']])\n",
    "df_minmax = pd.DataFrame(x_minmax)\n",
    "df_minmax = df_minmax.rename(columns={0:'平均油量升数', 1:'平均实际金额', 2:'平均折扣金额', 3:'平均余额', 4:'车队卡累计消费金额', \n",
    "                                      5:'车队卡汽油累计消费金额', 6:'加油卡非油累计消费金额',7:'IC卡大额非油消费次数', \n",
    "                                      8:'车队卡累计消费次数', 9:'单日高频充值次数', 10:'单日高频消费次数', \n",
    "                                      11:'车队卡汽油累计消费次数',12:'单日夜间高频消费次数'})\n",
    "df_minmax_concat1 = pd.concat([df_copy1.reset_index()['卡号'], df_minmax], axis = 1)\n",
    "df_minmax_concat2 = pd.merge(df_minmax_concat1, df_copy.drop(['平均油量升数', '平均实际金额', '平均折扣金额', '平均余额', '车队卡累计消费金额',\n",
    "                                                  '车队卡汽油累计消费金额','加油卡非油累计消费金额','IC卡大额非油消费次数',\n",
    "                                                  '车队卡累计消费次数', '单日高频充值次数','单日高频消费次数', \n",
    "                                                  '车队卡汽油累计消费次数','单日夜间高频消费次数'], axis=1), on='卡号')\n",
    "df_minmax_concat2 = df_minmax_concat2.set_index('卡号')"
   ]
  },
  {
   "attachments": {},
   "cell_type": "markdown",
   "metadata": {},
   "source": [
    "#### 主成分分析技术（PCA）"
   ]
  },
  {
   "cell_type": "code",
   "execution_count": 14,
   "metadata": {},
   "outputs": [],
   "source": [
    "# 创建一个PCA模型并适配数据表\n",
    "pca = PCA(n_components = 5)\n",
    "X2D = pca.fit_transform(df_minmax_concat2)"
   ]
  },
  {
   "cell_type": "code",
   "execution_count": 15,
   "metadata": {},
   "outputs": [
    {
     "name": "stdout",
     "output_type": "stream",
     "text": [
      "[0.38495252 0.1796159  0.15772253 0.14156461 0.09427755]\n"
     ]
    }
   ],
   "source": [
    "# 评估PCA降维后变量能够代表原数据变量的程度\n",
    "print(pca.explained_variance_ratio_)"
   ]
  },
  {
   "cell_type": "code",
   "execution_count": 16,
   "metadata": {},
   "outputs": [
    {
     "data": {
      "text/plain": [
       "Text(0, 0.5, 'pc2')"
      ]
     },
     "execution_count": 16,
     "metadata": {},
     "output_type": "execute_result"
    },
    {
     "data": {
      "image/png": "[encoded data removed]",
      "text/plain": [
       "<Figure size 576x576 with 1 Axes>"
      ]
     },
     "metadata": {
      "needs_background": "light"
     },
     "output_type": "display_data"
    }
   ],
   "source": [
    "# 使用降维后变量绘制散点图观察趋势\n",
    "plt.figure(figsize=(8,8))\n",
    "plt.scatter(X2D[:,0],X2D[:,1])\n",
    "plt.xlabel('pc1')\n",
    "plt.ylabel('pc2')"
   ]
  },
  {
   "cell_type": "code",
   "execution_count": 17,
   "metadata": {},
   "outputs": [
    {
     "data": {
      "image/png": "[encoded data removed]",
      "text/plain": [
       "<Figure size 432x288 with 1 Axes>"
      ]
     },
     "metadata": {
      "needs_background": "light"
     },
     "output_type": "display_data"
    }
   ],
   "source": [
    "# # 使用肘部法则得出最佳的簇类数量\n",
    "# Sum_of_squared_distances = []\n",
    "\n",
    "# # Use k from 1 to 15\n",
    "# K = range(1,15)\n",
    "# for k in K:\n",
    "#     km = KMeans(n_clusters=k, init='random', n_init=10, max_iter=500,  tol=1e-04, random_state=0)\n",
    "#     km = km.fit(X2D)\n",
    "#     # Get sum of square distances by applying km.inertia_ \n",
    "#     Sum_of_squared_distances.append(km.inertia_)\n",
    "\n",
    "# # Plot Results\n",
    "# plt.plot(K, Sum_of_squared_distances, marker='o')\n",
    "# plt.xlabel('k')\n",
    "# plt.ylabel('Sum_of_squared_distances')\n",
    "# plt.title('Elbow Method For Optimal k')\n",
    "# plt.show()"
   ]
  },
  {
   "cell_type": "code",
   "execution_count": 18,
   "metadata": {},
   "outputs": [
    {
     "data": {
      "image/png": "[encoded data removed]",
      "text/plain": [
       "<Figure size 576x576 with 1 Axes>"
      ]
     },
     "metadata": {
      "needs_background": "light"
     },
     "output_type": "display_data"
    }
   ],
   "source": [
    "# # 使用KMeans进行数据标签分类 (两类)\n",
    "# # 每个循环跑10次，共跑500个循环\n",
    "\n",
    "# cluster_num = 4\n",
    "\n",
    "# km = KMeans(n_clusters=cluster_num, init='k-means++', n_init=10, max_iter=500,  tol=1e-04, random_state=0)\n",
    "# y_km = km.fit_predict(X2D)\n",
    "# plt.figure(figsize=(8,8))\n",
    "\n",
    "# # 使用散点图画出两类数据标签及分布中心\n",
    "# colors = [\"orange\", \"green\", 'black', 'yellow', 'blue', 'brown']\n",
    "# for i in range(cluster_num):\n",
    "#     plt.scatter(X2D[y_km == i, 0], X2D[y_km == i, 1], s=50, c=colors[i], \n",
    "#                 marker = 's', edgecolor=\"black\", label=\"cluster %d\"%(i+1))\n",
    "\n",
    "# plt.scatter(km.cluster_centers_[:, 0], km.cluster_centers_[:, 1],\n",
    "#             s=250, marker='*',c='red', edgecolor='black',label='centroids')\n",
    "# plt.legend(scatterpoints=1)\n",
    "# plt.grid()"
   ]
  },
  {
   "attachments": {},
   "cell_type": "markdown",
   "metadata": {},
   "source": [
    "#### 返回原数据表（Kmeans++）"
   ]
  },
  {
   "cell_type": "code",
   "execution_count": 19,
   "metadata": {},
   "outputs": [],
   "source": [
    "X2D_df = pd.DataFrame(X2D)\n",
    "r = pd.concat([X2D_df, pd.Series(train_km.labels_, index = X2D_df.index)], axis = 1)  #每个样本对应的类别\n",
    "r.columns = list(X2D_df.columns) + [u'聚类类别'] #重命名表头"
   ]
  },
  {
   "cell_type": "code",
   "execution_count": 20,
   "metadata": {},
   "outputs": [],
   "source": [
    "# 计算每个数据点距离簇类中心的相对距离\n",
    "distance = pd.DataFrame()\n",
    "for i in range(cluster_num): \n",
    "    distance_ind = pd.DataFrame()\n",
    "    distance_ind = r[[0,1]][r[u'聚类类别'] == i] - km.cluster_centers_[i, 0:2]\n",
    "    distance_ind['absolute distance'] = (distance_ind[0] ** 2 + distance_ind[1] ** 2) ** 0.5\n",
    "    distance = distance.append(distance_ind)\n",
    "r['absolute distance'] = distance['absolute distance']\n",
    "\n",
    "r.drop(['聚类类别'], axis=1)"
   ]
  },
  {
   "cell_type": "code",
   "execution_count": 21,
   "metadata": {},
   "outputs": [],
   "source": [
    "# 将异常点和正常点画出来\n",
    "threshold = 5\n",
    "normal = r[r['absolute distance'] <= threshold]\n",
    "normal = normal.drop(['absolute distance'], axis = 1)\n",
    "\n",
    "plt.rcParams['axes.unicode_minus'] = False #用来正常显示负号\n",
    "plt.figure(figsize=(10,9))\n",
    "\n",
    "plt.scatter(normal[0], normal[1], marker='o')\n",
    "\n",
    "discrete_points = r[r['absolute distance'] > threshold] #离群点\n",
    "\n",
    "plt.scatter(discrete_points[0], discrete_points[1], marker='x')\n",
    "\n",
    "plt.xlabel('pca1')\n",
    "plt.ylabel('pca2')\n",
    "plt.show()"
   ]
  },
  {
   "cell_type": "code",
   "execution_count": 23,
   "metadata": {},
   "outputs": [],
   "source": [
    "# 打印映射的原数据表内容\n",
    "abnormal = df.iloc[list(discrete_points.index)]"
   ]
  },
  {
   "cell_type": "code",
   "execution_count": 24,
   "metadata": {},
   "outputs": [],
   "source": [
    "以csv格式导出\n",
    "abnormal.to_csv('车队卡全量异常.csv')"
   ]
  },
  {
   "attachments": {},
   "cell_type": "markdown",
   "metadata": {},
   "source": [
    "#### 孤立森林算法"
   ]
  },
  {
   "cell_type": "code",
   "execution_count": 26,
   "metadata": {},
   "outputs": [
    {
     "data": {
      "text/plain": [
       "{'max_samples': 5000, 'n_estimators': 200}"
      ]
     },
     "execution_count": 26,
     "metadata": {},
     "output_type": "execute_result"
    }
   ],
   "source": [
    "# Grid Search调参，打印最佳参数\n",
    "\n",
    "from sklearn.model_selection import GridSearchCV\n",
    "X2D = pd.DataFrame(X2D)\n",
    "X2D.shape[0]\n",
    "\n",
    "# Grid Search\n",
    "tuned = {'n_estimators':[100, 200, 300], 'max_samples':[1000, 3000, 5000]}\n",
    "\n",
    "def scorer_f(estimator, X):   #your own scorer\n",
    "      return np.mean(estimator.score_samples(X))\n",
    "\n",
    "isolation_forest = GridSearchCV(IsolationForest(), tuned, scoring=scorer_f)\n",
    "model = isolation_forest.fit(X2D)\n",
    "\n",
    "model.best_params_"
   ]
  },
  {
   "cell_type": "code",
   "execution_count": null,
   "metadata": {},
   "outputs": [
    {
     "name": "stdout",
     "output_type": "stream",
     "text": [
      "(4608078, 5)\n"
     ]
    },
    {
     "name": "stderr",
     "output_type": "stream",
     "text": [
      "[Parallel(n_jobs=8)]: Using backend ThreadingBackend with 8 concurrent workers.\n",
      "[Parallel(n_jobs=8)]: Done   2 out of   8 | elapsed:   17.5s remaining:   52.6s\n",
      "[Parallel(n_jobs=8)]: Done   8 out of   8 | elapsed:   18.3s finished\n"
     ]
    }
   ],
   "source": [
    "# 创建模型\n",
    "ilf = IsolationForest(n_estimators = model.best_params_['n_estimators'],\n",
    "                      max_samples = model.best_params_['max_samples'],\n",
    "                      n_jobs= -1,          # 使用全部cpu\n",
    "                      contamination = 0.001,\n",
    "                      verbose= 1\n",
    "    )\n",
    "\n",
    "# 模型训练\n",
    "Iso_model = ilf.fit(X2D[[0,1,2,3,4]])"
   ]
  },
  {
   "attachments": {},
   "cell_type": "markdown",
   "metadata": {},
   "source": [
    "### 存储模型"
   ]
  },
  {
   "cell_type": "code",
   "execution_count": null,
   "metadata": {},
   "outputs": [],
   "source": [
    "# 存储训练好的模型至开发环境中\n",
    "joblib.dump(Iso_model, 'Iso.model')"
   ]
  }
 ],
 "metadata": {
  "kernelspec": {
   "display_name": "Python 3",
   "language": "python",
   "name": "python3"
  },
  "language_info": {
   "codemirror_mode": {
    "name": "ipython",
    "version": 3
   },
   "file_extension": ".py",
   "mimetype": "text/x-python",
   "name": "python",
   "nbconvert_exporter": "python",
   "pygments_lexer": "ipython3",
   "version": "3.8.5"
  }
 },
 "nbformat": 4,
 "nbformat_minor": 4
}
